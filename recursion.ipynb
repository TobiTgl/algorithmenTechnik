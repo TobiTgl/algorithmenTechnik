{
 "cells": [
  {
   "cell_type": "code",
   "execution_count": null,
   "metadata": {},
   "outputs": [],
   "source": [
    "#print all characters in a string\n",
    "def print_all_chars(s):\n",
    "    if len(s) == 0:\n",
    "        return\n",
    "    print(s[0])\n",
    "    return print_all_chars(s[1:])\n",
    "\n",
    "print_all_chars(\"hello\")"
   ]
  },
  {
   "cell_type": "code",
   "execution_count": null,
   "metadata": {},
   "outputs": [],
   "source": [
    "#print all items in a list\n",
    "def print_all_items(li):\n",
    "    if len(li) == 0:\n",
    "        return\n",
    "    print(li[0])\n",
    "    print_all_items(li[1:])\n",
    "    return\n",
    "\n",
    "items=[\"hi\", \"car\", \"yowmom\"]\n",
    "print_all_items(items)"
   ]
  },
  {
   "cell_type": "code",
   "execution_count": null,
   "metadata": {},
   "outputs": [],
   "source": [
    "#primality test\n",
    "\n",
    "def isPrime(n, prime=True, m=2):\n",
    "    if(n==1 or (n%2==0 and n!=2)):\n",
    "        prime=False\n",
    "    if(n==m):\n",
    "        return prime\n",
    "    if(n%m==0):\n",
    "        prime= False\n",
    "    return isPrime(n, prime, m+1)\n",
    "    \n",
    "print(isPrime(2))"
   ]
  },
  {
   "cell_type": "code",
   "execution_count": null,
   "metadata": {},
   "outputs": [],
   "source": [
    "#binärdarstellung\n",
    "\n",
    "def hexToBin(n):\n",
    "    if n>0:\n",
    "        hexToBin(n//2)\n",
    "        print(n%2)\n",
    "\n",
    "print(hexToBin(9))"
   ]
  },
  {
   "cell_type": "code",
   "execution_count": null,
   "metadata": {},
   "outputs": [],
   "source": [
    "#binary2\n",
    "def find( decimal_number ):\n",
    "    if decimal_number == 0:\n",
    "        return 0\n",
    "    else:\n",
    "        return (decimal_number % 2 + 10 * find(decimal_number // 2))\n",
    " \n",
    "# Driver Code\n",
    "decimal_number = 10\n",
    "print(find(decimal_number))"
   ]
  },
  {
   "cell_type": "code",
   "execution_count": null,
   "metadata": {},
   "outputs": [],
   "source": [
    "#reverse string\n",
    "\n",
    "def reverseString(s):\n",
    "    if len(s) == 0:\n",
    "        return s\n",
    "    else:\n",
    "        return s[-1] + reverseString(s[:-1])\n",
    "\n",
    "reverseString(\"hallo\")\n"
   ]
  }
 ],
 "metadata": {
  "kernelspec": {
   "display_name": "Python 3",
   "language": "python",
   "name": "python3"
  },
  "language_info": {
   "codemirror_mode": {
    "name": "ipython",
    "version": 3
   },
   "file_extension": ".py",
   "mimetype": "text/x-python",
   "name": "python",
   "nbconvert_exporter": "python",
   "pygments_lexer": "ipython3",
   "version": "3.12.2"
  }
 },
 "nbformat": 4,
 "nbformat_minor": 2
}
