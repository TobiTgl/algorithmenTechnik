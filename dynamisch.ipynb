{
 "cells": [
  {
   "cell_type": "markdown",
   "metadata": {},
   "source": [
    "#fibonacci dynamic programming\n",
    "fib[n+1]\n",
    "fib[0] = 0\n",
    "fib[1] = 1\n",
    "for(int n = 2; n <= n; n++):\n",
    "    fib[n] = fib[n-1] + fib[n-2]\n",
    "return fib[n]\n",
    "\n",
    "n = 9\n",
    "print(fib(n))\n",
    "\n",
    "# Laufzeit O(n), da die Schleife n mal durchlaufen wird Speicher O(n), da ein Array der Größe n angelegt wird\n",
    "# kann auch in O(1) Speicher gelöst werden, da nur die letzten beiden Zahlen benötigt werden"
   ]
  },
  {
   "cell_type": "markdown",
   "metadata": {},
   "source": [
    "#binomialkoeffizient\n",
    "\n",
    "int komb[n+1][n+1]\n",
    "\n",
    "for(int i = 0; i <= n; i++):\n",
    "    komb[i][0] = 1\n",
    "\n",
    "for(int i = 1; i <= n; i++):\n",
    "    komb[i][i] = 1\n",
    "\n",
    "for(int i = 2; i <= n; i++):\n",
    "    for(int k = 1; k < i; k++):\n",
    "        komb[i][k] = komb[i-1][k-1] + komb[i-1][k]\n"
   ]
  }
 ],
 "metadata": {
  "kernelspec": {
   "display_name": "Python 3",
   "language": "python",
   "name": "python3"
  },
  "language_info": {
   "codemirror_mode": {
    "name": "ipython",
    "version": 3
   },
   "file_extension": ".py",
   "mimetype": "text/x-python",
   "name": "python",
   "nbconvert_exporter": "python",
   "pygments_lexer": "ipython3",
   "version": "3.12.2"
  }
 },
 "nbformat": 4,
 "nbformat_minor": 2
}
