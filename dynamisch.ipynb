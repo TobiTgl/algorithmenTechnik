{
 "cells": [
  {
   "cell_type": "markdown",
   "metadata": {},
   "source": [
    "#fibonacci dynamic programming\n",
    "fib[n+1]\n",
    "fib[0] = 0\n",
    "fib[1] = 1\n",
    "for(int n = 2; n <= n; n++):\n",
    "    fib[n] = fib[n-1] + fib[n-2]\n",
    "return fib[n]\n",
    "\n",
    "n = 9\n",
    "print(fib(n))\n",
    "\n",
    "# Laufzeit O(n), da die Schleife n mal durchlaufen wird Speicher O(n), da ein Array der Größe n angelegt wird\n",
    "# kann auch in O(1) Speicher gelöst werden, da nur die letzten beiden Zahlen benötigt werden"
   ]
  },
  {
   "cell_type": "markdown",
   "metadata": {},
   "source": [
    "#binomialkoeffizient\n",
    "\n",
    "int komb[n+1][n+1]\n",
    "\n",
    "for(int i = 0; i <= n; i++):\n",
    "    komb[i][0] = 1\n",
    "\n",
    "for(int i = 1; i <= n; i++):\n",
    "    komb[i][i] = 1\n",
    "\n",
    "for(int i = 2; i <= n; i++):\n",
    "    for(int k = 1; k < i; k++):\n",
    "        komb[i][k] = komb[i-1][k-1] + komb[i-1][k]\n",
    "\n",
    "T(n) = O(n²) Schleifenregel & Worstcase\n",
    "\n",
    "oder \n",
    "\n",
    "int komb[n+1];\n",
    "for (int i=0; i<=n; i++){\n",
    "// Basisfälle:\n",
    "    komb[0] = 1;\n",
    "    komb[i] = 1;\n",
    "// Rekursionsschritt:\n",
    "    for (int k=i-1; k>=1; k--)\n",
    "        komb[k] = komb[k] + komb[k-1];\n",
    "}\n"
   ]
  },
  {
   "cell_type": "markdown",
   "metadata": {},
   "source": [
    "# 0-1 Rucksackproblem\n",
    "\n",
    "int P[n+1, G+1]\n",
    "for (int x=0; x<=G; x++) P[0,x] = 0;\n",
    "for (int i=0; i<=n; i++) P[i,0] = 0;       // 1te Zeile und Spalte auf 0 setzten 0 items/Rucksackgröße 0\n",
    "\n",
    "for (int i=1; i<=n; i++) {                 // Zeile Durchgehen für anzahl der gegenstände   O(n)\n",
    "    for (int x=1; x<=G; x++) {             // Spalte durchgehen für größe des Rucksacks     O(G)\n",
    "        P[i,x] = P[i-1,x];                 // Wert von einer Zeile drüber übernehmen       \n",
    "        if ( x-gi>=0 ) {                   // wenn noch genug platz ist\n",
    "            double t = wi + P[i-1,x-gi];   // wert des i-ten gegenstands Berechnen\n",
    "            P[i,x] = max(P[i,x],t);        // Maximum zwischen aktuellen wert & neuer wert\n",
    "        }\n",
    "    }\n",
    "}\n",
    "\n",
    "Schleifenregel O(n*G)"
   ]
  },
  {
   "cell_type": "markdown",
   "metadata": {},
   "source": [
    "# Catalanzahl\n",
    "\n",
    "function catalanNumber(n):\n",
    "    # Step 1: Initialize the array to store Catalan numbers\n",
    "    C = [0] * (n + 1)\n",
    "    C[0] = 1\n",
    "    C[1] = 1\n",
    "\n",
    "    # Step 2: Compute values from C[2] to C[n]\n",
    "    for (i = 1; i <= n; i++):            # -> O(n)\n",
    "        for (j = 0; j < i; j++):         # -> * O(n)\n",
    "            C[i] += C[j] * C[i - j - 1]\n",
    "\n",
    "    # Step 3: Return the n-th Catalan number\n",
    "    return C[n]\n",
    "\n",
    "T(n) = O(n²)"
   ]
  },
  {
   "cell_type": "markdown",
   "metadata": {},
   "source": [
    "def longest_common_subsequence(A[], B[]):\n",
    "    n = len(A); m = len(B)\n",
    "    cache[0...n+1][0...m+1] = 0\n",
    "\n",
    "    for i = 1 to n:                                                     # -> O(n)\n",
    "        for j = 1 to m:                                                 # -> * O(m)\n",
    "            if A[i - 1] == B[j - 1]:\n",
    "                cache[i][j] = cache[i - 1][j - 1] + 1\n",
    "            else:\n",
    "                cache[i][j] = max(cache[i - 1][j], cache[i][j - 1])\n",
    "\n",
    "    return cache[n][m]"
   ]
  },
  {
   "cell_type": "markdown",
   "metadata": {},
   "source": [
    "# Zahlen Dreieck\n",
    "\n",
    "function zahlenDreieck(D[][]){\n",
    "    int a[n][n] = ...;\n",
    "    int s[n][n], p[n][n];\n",
    "    p[0][0] = -1;\n",
    "\n",
    "}"
   ]
  }
 ],
 "metadata": {
  "kernelspec": {
   "display_name": "Python 3",
   "language": "python",
   "name": "python3"
  },
  "language_info": {
   "codemirror_mode": {
    "name": "ipython",
    "version": 3
   },
   "file_extension": ".py",
   "mimetype": "text/x-python",
   "name": "python",
   "nbconvert_exporter": "python",
   "pygments_lexer": "ipython3",
   "version": "3.12.2"
  }
 },
 "nbformat": 4,
 "nbformat_minor": 2
}
