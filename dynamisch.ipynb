{
 "cells": [
  {
   "cell_type": "markdown",
   "metadata": {},
   "source": [
    "#fibonacci dynamic programming\n",
    "fib[n+1]\n",
    "fib[0] = 0\n",
    "fib[1] = 1\n",
    "for(int n = 2; n <= n; n++):\n",
    "    fib[n] = fib[n-1] + fib[n-2]\n",
    "return fib[n]\n",
    "\n",
    "n = 9\n",
    "print(fib(n))\n",
    "\n",
    "# Laufzeit O(n), da die Schleife n mal durchlaufen wird Speicher O(n), da ein Array der Größe n angelegt wird\n",
    "# kann auch in O(1) Speicher gelöst werden, da nur die letzten beiden Zahlen benötigt werden"
   ]
  },
  {
   "cell_type": "markdown",
   "metadata": {},
   "source": [
    "#binomialkoeffizient\n",
    "\n",
    "int komb[n+1][n+1]\n",
    "\n",
    "for(int i = 0; i <= n; i++):\n",
    "    komb[i][0] = 1\n",
    "\n",
    "for(int i = 1; i <= n; i++):\n",
    "    komb[i][i] = 1\n",
    "\n",
    "for(int i = 2; i <= n; i++):\n",
    "    for(int k = 1; k < i; k++):\n",
    "        komb[i][k] = komb[i-1][k-1] + komb[i-1][k]\n",
    "\n",
    "T(n) = O(n²) Schleifenregel & Worstcase\n",
    "\n",
    "oder \n",
    "\n",
    "int komb[n+1];\n",
    "for (int i=0; i<=n; i++){\n",
    "// Basisfälle:\n",
    "    komb[0] = 1;\n",
    "    komb[i] = 1;\n",
    "// Rekursionsschritt:\n",
    "    for (int k=i-1; k>=1; k--)\n",
    "        komb[k] = komb[k] + komb[k-1];\n",
    "}\n"
   ]
  },
  {
   "cell_type": "markdown",
   "metadata": {},
   "source": [
    "# 0-1 Rucksackproblem\n",
    "\n",
    "int P[n+1, G+1]\n",
    "for (int x=0; x<=G; x++) P[0,x] = 0;\n",
    "for (int i=0; i<=n; i++) P[i,0] = 0;       // 1te Zeile und Spalte auf 0 setzten 0 items/Rucksackgröße 0\n",
    "\n",
    "for (int i=1; i<=n; i++) {                 // Zeile Durchgehen für anzahl der gegenstände   O(n)\n",
    "    for (int x=1; x<=G; x++) {             // Spalte durchgehen für größe des Rucksacks     O(G)\n",
    "        P[i,x] = P[i-1,x];                 // Wert von einer Zeile drüber übernehmen       \n",
    "        if ( x-gi>=0 ) {                   // wenn noch genug platz ist\n",
    "            double t = wi + P[i-1,x-gi];   // wert des i-ten gegenstands Berechnen\n",
    "            P[i,x] = max(P[i,x],t);        // Maximum zwischen aktuellen wert & neuer wert\n",
    "        }\n",
    "    }\n",
    "}\n",
    "\n",
    "Schleifenregel O(n*G)"
   ]
  }
 ],
 "metadata": {
  "kernelspec": {
   "display_name": "Python 3",
   "language": "python",
   "name": "python3"
  },
  "language_info": {
   "codemirror_mode": {
    "name": "ipython",
    "version": 3
   },
   "file_extension": ".py",
   "mimetype": "text/x-python",
   "name": "python",
   "nbconvert_exporter": "python",
   "pygments_lexer": "ipython3",
   "version": "3.12.2"
  }
 },
 "nbformat": 4,
 "nbformat_minor": 2
}
