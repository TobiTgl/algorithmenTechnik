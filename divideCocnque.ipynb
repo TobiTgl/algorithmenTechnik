{
 "cells": [
  {
   "cell_type": "code",
   "execution_count": null,
   "metadata": {},
   "outputs": [],
   "source": [
    "#recousive search\n",
    "#static\n",
    "##int search int [] arr , int li, int re , int key\n",
    "#{\n",
    "#// Voraussetzung: a ist aufsteigend sortiert\n",
    "#if re li < 0) return 1;\n",
    "#int m = ( li+re )/\n",
    "#if key == arr [ return m;\n",
    "#if key < arr [ return search arr , li,m 1,key);\n",
    "#else return search (arr,m+1, re,key\n",
    "#}\n",
    "\n",
    "def search(arr,li,re,key):\n",
    "    if re-li<0:\n",
    "        return -1\n",
    "    m=(li+re)//2\n",
    "    if key==arr[m]:\n",
    "        return m\n",
    "    if key<arr[m]:\n",
    "        return search(arr,li,m-1,key)\n",
    "    else:\n",
    "        return search(arr,m+1,re,key)\n",
    "    \n",
    "arr=[1,2,3,4,5,6,7,8,9,10]\n",
    "key=6\n",
    "print(search(arr,0,len(arr)-1,key))"
   ]
  },
  {
   "cell_type": "code",
   "execution_count": 36,
   "metadata": {},
   "outputs": [
    {
     "name": "stdout",
     "output_type": "stream",
     "text": [
      "[7, 8, 9, 10, 11, 12, 14, 22]\n"
     ]
    }
   ],
   "source": [
    "#merge sort\n",
    "#\n",
    "#void itemArray mergeSort int left , int right\n",
    "#{\n",
    "#if right left ) return ;\n",
    "#int middle = left+right )/2;\n",
    "#mergeSort left , middle\n",
    "#mergeSort (middle+1, right\n",
    "#merge left , middle , right\n",
    "#}\n",
    "#\n",
    "#\n",
    "\n",
    "def mergeSort(arr, left, right):\n",
    "    if left>=right:\n",
    "        return # base case array has one element or less -> return and sort & merge array\n",
    "    middle=(left+right)//2\n",
    "    mergeSort(arr,left,middle)\n",
    "    mergeSort(arr,middle+1,right)\n",
    "    merge(arr,left,middle,right)\n",
    "\n",
    "\n",
    "# Merges two subarrays of array[].\n",
    "# First subarray is arr[left..middle]\n",
    "# Second subarray is arr[middle+1..right]\n",
    "def merge(arr,left,middle,right):\n",
    "    #find sizes of two subarrays to be merged\n",
    "    nl=middle-left+1\n",
    "    nr=right-middle\n",
    "\n",
    "    #temp arrays\n",
    "    L=[0]*nl #create an array of size nl\n",
    "    R=[0]*nr\n",
    "\n",
    "    #copy data to temp arrays L[] and R[]\n",
    "    for i in range(nl):\n",
    "        L[i]=arr[left+i]\n",
    "    for j in range(nr):\n",
    "        R[j]=arr[middle+j+1]\n",
    "\n",
    "    #initial indexes of first and second subarrays\n",
    "    i=0\n",
    "    j=0\n",
    "    #initial index of merged subarray array\n",
    "    k=left\n",
    "    #merge the temp arrays back into arr[left..right]\n",
    "    #copy the smallest elements from L[] and R[] to arr[]\n",
    "    while i<nl and j<nr:\n",
    "        if L[i]<=R[j]:\n",
    "            arr[k]=L[i]\n",
    "            i+=1\n",
    "        else:\n",
    "            arr[k]=R[j]\n",
    "            j+=1\n",
    "        k+=1\n",
    "    #copy the remaining elements of L[], if there are any\n",
    "    while i<nl:\n",
    "        arr[k]=L[i]\n",
    "        i+=1\n",
    "        k+=1\n",
    "    #copy the remaining elements of R[], if there are any\n",
    "    while j<nr:\n",
    "        arr[k]=R[j]\n",
    "        j+=1\n",
    "        k+=1\n",
    "\n",
    "arr=[12,11,10,9,8,7,22,14]\n",
    "mergeSort(arr,0,len(arr)-1)\n",
    "\n",
    "print(arr)\n",
    "\n"
   ]
  },
  {
   "cell_type": "code",
   "execution_count": 56,
   "metadata": {},
   "outputs": [
    {
     "name": "stdout",
     "output_type": "stream",
     "text": [
      "Fibonacci series of 5 numbers is : 0 1 1 2 3 5 8 13 21 34 55 89 144 233 377 610 987 1597 2584 4181 "
     ]
    }
   ],
   "source": [
    "# Function for fibonacci Kein Teile und Herrsche!!!!\n",
    "def fib(n): \n",
    "  \n",
    "    # Stop condition \n",
    "    if (n == 0): \n",
    "        return 0\n",
    "  \n",
    "    # Stop condition \n",
    "    if (n == 1 or n == 2): \n",
    "        return 1\n",
    "  \n",
    "    # Recursion function \n",
    "    else: \n",
    "        return (fib(n - 1) + fib(n - 2)) \n",
    "  \n",
    "  \n",
    "# Driver Code \n",
    "  \n",
    "# Initialize variable n. \n",
    "n = 20; \n",
    "print(\"Fibonacci series of 5 numbers is :\",end=\" \") \n",
    "  \n",
    "# for loop to print the fibonacci series. \n",
    "for i in range(0,n):  \n",
    "    print(fib(i),end=\" \") \n",
    "\n",
    "\n"
   ]
  },
  {
   "cell_type": "code",
   "execution_count": null,
   "metadata": {},
   "outputs": [],
   "source": [
    "#binary2\n",
    "def find( decimal_number ):\n",
    "    if decimal_number == 0:\n",
    "        return 0\n",
    "    else:\n",
    "        return (decimal_number % 2 + 10 * find(decimal_number // 2))\n",
    " \n",
    "# Driver Code\n",
    "decimal_number = 10\n",
    "print(find(decimal_number))\n",
    "\n",
    "def hexToBin(n):\n",
    "    if n>0:\n",
    "        hexToBin(n//2)\n",
    "        print(n%2)\n",
    "\n",
    "print(hexToBin(9))"
   ]
  },
  {
   "cell_type": "code",
   "execution_count": 13,
   "metadata": {},
   "outputs": [
    {
     "name": "stdout",
     "output_type": "stream",
     "text": [
      "The maximum element in the array is: 12\n"
     ]
    }
   ],
   "source": [
    "def find_max(arr, low, high):\n",
    "    # Base case: If the array has only one element\n",
    "    if low == high:\n",
    "        return arr[low]\n",
    "\n",
    "    # Divide the array into two halves\n",
    "    mid = (low + high) // 2\n",
    "\n",
    "    # Recursively find the maximum in the left half\n",
    "    max_left = find_max(arr, low, mid)\n",
    "\n",
    "    # Recursively find the maximum in the right half\n",
    "    max_right = find_max(arr, mid + 1, high)\n",
    "\n",
    "    # Combine: return the maximum of the two halves\n",
    "    if max_left > max_right:\n",
    "        return max_left\n",
    "    else:\n",
    "        return max_right\n",
    "\n",
    "# Example usage\n",
    "arr = [3, 1, 4, 12, 5, 9, 2, 6, 5, 3, 5]\n",
    "result = find_max(arr, 0, len(arr) - 1)\n",
    "print(f\"The maximum element in the array is: {result}\")"
   ]
  },
  {
   "cell_type": "code",
   "execution_count": 22,
   "metadata": {},
   "outputs": [
    {
     "data": {
      "text/plain": [
       "10"
      ]
     },
     "execution_count": 22,
     "metadata": {},
     "output_type": "execute_result"
    }
   ],
   "source": [
    "#ggt\n",
    "\n",
    "def ggt(a, b):\n",
    "    if (b == 0):\n",
    "        return a               # -> Basisfall fB = O(1)\n",
    "    else:\n",
    "        return ggt(b, a % b)     # -> Teilen fT = O(1)\n",
    "                                 #    Anzahl der Teilprobleme a = 1\n",
    "                                 #    Größe der Teilprobleme n / b = n - 1\n",
    "ggt(0, 10) #Laufzeit O(log(min(a, b)).\n",
    "\n",
    "#How the Euclidean Algorithm Works\n",
    "#Divide: It reduces the problem size by taking the modulus of the larger number by the smaller number.\n",
    "#Conquer: It recursively applies the same process to the smaller pair of numbers.\n",
    "#Combine: The result is combined directly as the base case returns the GCD.\n",
    "\n",
    "#Recursive Case: Replace 𝑎 with 𝑏 and 𝑏 with 𝑎 mod  𝑏 Repeat the process."
   ]
  },
  {
   "cell_type": "code",
   "execution_count": 33,
   "metadata": {},
   "outputs": [
    {
     "data": {
      "text/plain": [
       "81"
      ]
     },
     "execution_count": 33,
     "metadata": {},
     "output_type": "execute_result"
    }
   ],
   "source": [
    "def power(b, e):\n",
    "    if (e == 0):\n",
    "        return 1\n",
    "    elif (e % 2) == 0:\n",
    "        return power(b, int(e / 2)) * power(b, int(e / 2))\n",
    "    else:\n",
    "        return b * power(b, int(e / 2)) * power(b, int(e / 2))\n",
    "\n",
    "power(3,4)\n",
    "\n",
    "#Time Complexity: O(n)\n",
    "#T(n) = 2T(n/2) + O(1)\n",
    "#a = 2, b = 2 \n",
    "#fb(n) = O(1)\n",
    "#fT = O(1)\n",
    "#fH = O(1)\n",
    "#-> f(n) = O(1)\n",
    "#watershed = log2(2)=1\n",
    "# Fall 1 da f(n) -> O(1) für alle e > 0 schneller als (n^a-e)\n",
    "# T(n) = O(n)\n",
    "\n"
   ]
  },
  {
   "cell_type": "code",
   "execution_count": 22,
   "metadata": {},
   "outputs": [
    {
     "data": {
      "text/plain": [
       "7006652"
      ]
     },
     "execution_count": 22,
     "metadata": {},
     "output_type": "execute_result"
    }
   ],
   "source": [
    "#Karatsuba Algorithm\n",
    "\n",
    "from math import floor\n",
    "\n",
    "\n",
    "def karatsuba(u, v):\n",
    "    if (u < 10) or (v < 10):\n",
    "        return u * v                                           # -> Basisfall fB = O(1)\n",
    "\n",
    "    n = max(len(str(u)), len(str(v)))                    # -> Teilen fT = O(1)\n",
    "    n2 = floor(n / 2)                                                       #    Anzahl der Teilprobleme bei n = 4: a = 3\n",
    "    w  = floor(u / 10**n2) # bzw  w, x= split_at(u, n2) \n",
    "    x = floor(u % (10**n2)) #  \n",
    "\n",
    "    y = floor(v / 10**n2) # y,z=split_at(v, n2)\n",
    "    z = floor(v % (10**n2))             \n",
    "\n",
    "    q = karatsuba(x, z)                     \n",
    "    r = karatsuba((w+x), (y + z)) \n",
    "    p = karatsuba(w, y)                   \n",
    "\n",
    "    return (p * 10**(2 * n2)) + ((r - p - q) * 10**(n2)) + (q)    # -> Herrschen fH = O(n) (vier multiplikationen n=4 -> O(n) \n",
    "\n",
    "karatsuba(1234, 5678) #Laufzeit O(n^1.59)\n",
    "#Master-Theorem: a = 3, b = 2, f(n) = O(n) → T(n) = O(n^log_2(3)) = O(n^1.585)"
   ]
  },
  {
   "cell_type": "code",
   "execution_count": null,
   "metadata": {},
   "outputs": [],
   "source": [
    "#Strassen Matrix Multiplication only for 2x2 matrices --> other too complicated\n",
    "def multiply(A, B):\n",
    "\n",
    "    if (len(A) == 1):\n",
    "        return A[0] * B[0]                            # -> Basisfall fB = O(1)\n",
    "\n",
    "    A11, A12, A21, A22 = split(A)                     # -> Teilen fT = O(n^2)\n",
    "    B11, B12, B21, B22 = split(B)                     \n",
    "    M1 = multiply(A12 - A22, B21 + B22)\n",
    "    M2 = multiply(A11 + A22, B11 + B22)               # -> Anzahl der Teilprobleme a = 7\n",
    "    M3 = multiply(A11 - A21, B11 + B12)\n",
    "    M4 = multiply(A11 + A12, B22)\n",
    "    M5 = multiply(A11, B12 - B22)                     #    Größe der Teilprobleme n / b = n / 2\n",
    "    M6 = multiply(A22, B21 - B11)\n",
    "    M7 = multiply(A21 + A22, B11)\n",
    "\n",
    "    C11 = M1 + M2 - M4 + M6\n",
    "    C12 = M4 + M5                                     # -> Kombinieren fK = O(n^2)\n",
    "    C21 = M6 + M7\n",
    "    C22 = M2 - M3 + M5 + M7\n",
    "\n",
    "    return join(C11, C12, C21, C22)                    # -> Herrschen fH = O(n^2)\n",
    "#Master Theorem: 𝑎=7,𝑏=2,𝑓(𝑛)=𝑂(𝑛2). Fall 1: 𝑇(𝑛)=Θ𝑛log27=𝑂𝑛2.8074"
   ]
  }
 ],
 "metadata": {
  "kernelspec": {
   "display_name": "Python 3",
   "language": "python",
   "name": "python3"
  },
  "language_info": {
   "codemirror_mode": {
    "name": "ipython",
    "version": 3
   },
   "file_extension": ".py",
   "mimetype": "text/x-python",
   "name": "python",
   "nbconvert_exporter": "python",
   "pygments_lexer": "ipython3",
   "version": "3.12.2"
  }
 },
 "nbformat": 4,
 "nbformat_minor": 2
}
